{
 "cells": [
  {
   "cell_type": "code",
   "execution_count": 1,
   "metadata": {},
   "outputs": [],
   "source": [
    "from shutil import copyfile\n",
    "import os\n",
    "\n",
    "#print(os.getcwd())"
   ]
  },
  {
   "cell_type": "code",
   "execution_count": 3,
   "metadata": {},
   "outputs": [
    {
     "name": "stdout",
     "output_type": "stream",
     "text": [
      "newly created file:  ./1-dataset/userdata-1-sine.csv\n",
      "newly created file:  ./1-dataset/userdata-2-triangle.csv\n",
      "newly created file:  ./1-dataset/userdata-3-sawtooth.csv\n",
      "newly created file:  ./1-dataset/userdata-4-random.csv\n"
     ]
    }
   ],
   "source": [
    "\n",
    "source_dir = \"../1. offloading pattern generation/\"\n",
    "dst_dir = \"./1-dataset/\"\n",
    "users = [\"-1-sine\",\"-2-triangle\",\"-3-sawtooth\",\"-4-random\"]\n",
    "\n",
    "extension = \".csv\"\n",
    "for i in range(len(users)):\n",
    "    filename = \"userdata\" + users[i] + extension\n",
    "    result = copyfile(src=source_dir + filename, dst=dst_dir + filename)\n",
    "    print(\"newly created file: \", result)"
   ]
  }
 ],
 "metadata": {
  "kernelspec": {
   "display_name": "Python 3",
   "language": "python",
   "name": "python3"
  },
  "language_info": {
   "codemirror_mode": {
    "name": "ipython",
    "version": 3
   },
   "file_extension": ".py",
   "mimetype": "text/x-python",
   "name": "python",
   "nbconvert_exporter": "python",
   "pygments_lexer": "ipython3",
   "version": "3.8.10"
  }
 },
 "nbformat": 4,
 "nbformat_minor": 2
}
